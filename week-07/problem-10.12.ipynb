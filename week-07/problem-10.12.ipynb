{
 "cells": [
  {
   "cell_type": "markdown",
   "id": "743bf2c1",
   "metadata": {},
   "source": [
    "# 10.12 DEATH-ONLY PROCESS (EXPERIMENTAL)\n",
    "\n",
    "***This problem is only required for graduate and Honors students.***\n",
    "\n",
    "Use this notebook to store your work for this problem."
   ]
  },
  {
   "cell_type": "code",
   "execution_count": 1,
   "id": "82354d77-813c-47f1-b243-2fb4bd4d0de2",
   "metadata": {},
   "outputs": [],
   "source": [
    "import numpy as np\n",
    "import matplotlib.pyplot as plt\n",
    "import scipy.special as ss\n",
    "from numpy import random\n",
    "from scipy.stats import norm\n",
    "from scipy.special import beta\n",
    "from numpy.random import default_rng\n",
    "\n",
    "rand = default_rng().random"
   ]
  },
  {
   "cell_type": "markdown",
   "id": "6cd8bb45",
   "metadata": {},
   "source": [
    "## (a)"
   ]
  },
  {
   "cell_type": "code",
   "execution_count": 2,
   "id": "cedbdb1f",
   "metadata": {},
   "outputs": [
    {
     "name": "stdout",
     "output_type": "stream",
     "text": [
      "[69. 50. 43. 36. 26. 25. 20. 21. 17. 13.  9. 15. 12. 11. 11.  3.  5.  3.\n",
      "  4.  4.  3.  1.  2.  0.]\n"
     ]
    }
   ],
   "source": [
    "data = np.load('colquhounData.npy')\n",
    "N_chan = data.sum()\n",
    "divide = np.hsplit(data,2)\n",
    "sections = divide[0].flatten()\n",
    "N_chan2 = divide[1].flatten()\n",
    "chan_open = N_chan2.cumsum()\n",
    "print(N_chan2)"
   ]
  },
  {
   "cell_type": "markdown",
   "id": "155b214b",
   "metadata": {},
   "source": [
    "## (b)"
   ]
  },
  {
   "cell_type": "code",
   "execution_count": 4,
   "id": "d5b93ddd",
   "metadata": {},
   "outputs": [
    {
     "data": {
      "text/plain": [
       "Text(0.5, 1.0, 'DEATHHH Only')"
      ]
     },
     "execution_count": 4,
     "metadata": {},
     "output_type": "execute_result"
    },
    {
     "data": {
      "image/png": "[encoded data removed]",
      "text/plain": [
       "<Figure size 432x288 with 1 Axes>"
      ]
     },
     "metadata": {
      "needs_background": "light"
     },
     "output_type": "display_data"
    }
   ],
   "source": [
    "B = 150\n",
    "num_draws = 300\n",
    "p_t = np.random.exponential(B,num_draws)\n",
    "p_t.sort()\n",
    "plt.plot(p_t)\n",
    "plt.title('DEATHHH Only')"
   ]
  },
  {
   "cell_type": "markdown",
   "id": "15efa967",
   "metadata": {},
   "source": [
    "## (c)"
   ]
  },
  {
   "cell_type": "code",
   "execution_count": null,
   "id": "76231ec1",
   "metadata": {},
   "outputs": [],
   "source": []
  }
 ],
 "metadata": {
  "kernelspec": {
   "display_name": "Python 3 (ipykernel)",
   "language": "python",
   "name": "python3"
  },
  "language_info": {
   "codemirror_mode": {
    "name": "ipython",
    "version": 3
   },
   "file_extension": ".py",
   "mimetype": "text/x-python",
   "name": "python",
   "nbconvert_exporter": "python",
   "pygments_lexer": "ipython3",
   "version": "3.9.7"
  }
 },
 "nbformat": 4,
 "nbformat_minor": 5
}
