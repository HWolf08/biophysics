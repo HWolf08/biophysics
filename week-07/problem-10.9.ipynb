{
 "cells": [
  {
   "cell_type": "markdown",
   "id": "14be49b8",
   "metadata": {},
   "source": [
    "# 10.9 SIMULATE SIMPLIFIED BURSTING PROCESS\n",
    "\n",
    "Use this notebook to store your work for this problem."
   ]
  },
  {
   "cell_type": "code",
   "execution_count": 4,
   "id": "cfb5c114",
   "metadata": {},
   "outputs": [],
   "source": [
    "import numpy as np\n",
    "import matplotlib.pyplot as plt\n",
    "import scipy.special as ss\n",
    "from numpy import random\n",
    "from scipy.stats import norm\n",
    "from scipy.special import beta\n",
    "from numpy.random import default_rng\n",
    "\n",
    "rand = default_rng().random"
   ]
  },
  {
   "cell_type": "code",
   "execution_count": 8,
   "id": "8d7f6b75-af78-4398-bc8e-d6bf620c7f71",
   "metadata": {},
   "outputs": [
    {
     "data": {
      "image/png": "[encoded data removed]",
      "text/plain": [
       "<Figure size 432x288 with 1 Axes>"
      ]
     },
     "metadata": {
      "needs_background": "light"
     },
     "output_type": "display_data"
    }
   ],
   "source": [
    "l0 = 0 \n",
    "B_start = 2/3\n",
    "B_stop = 1/3\n",
    "B_birth = 5*beta_start\n",
    "k_death = np.log(2)/50\n",
    "\n",
    "N = 150\n",
    "l = l0\n",
    "a = 0 \n",
    "T = 0\n",
    "l_r = np.zeros(N)\n",
    "t_r = np.zeros(N)\n",
    "for n in range(N):\n",
    "    rate = B_birth+ k_death*l\n",
    "    t = - 1/rate * np.log(rand())\n",
    "    \n",
    "    if(T > 1/B_start):\n",
    "        xi = B_birth/rate\n",
    "        event = rand() < xi\n",
    "        if event: \n",
    "             l = l+1\n",
    "        else: \n",
    "            l = l-1\n",
    "        a = a+1\n",
    "        if(a > 1/B_stop):\n",
    "            a = 0\n",
    "            pass\n",
    "    else:\n",
    "        l = l\n",
    "    T = T+t\n",
    "    l_r[n] = l\n",
    "    t_r[n] = T\n",
    "    plt.plot(T,l,'.')\n",
    "    plt.title('Death and Life')"
   ]
  },
  {
   "cell_type": "code",
   "execution_count": null,
   "id": "892230f8-64b3-4119-ae47-f0cffee630fd",
   "metadata": {},
   "outputs": [],
   "source": []
  },
  {
   "cell_type": "markdown",
   "id": "d49f09b9",
   "metadata": {},
   "source": [
    "***REPLACE WITH YOUR COMMENTS.***"
   ]
  }
 ],
 "metadata": {
  "kernelspec": {
   "display_name": "Python 3 (ipykernel)",
   "language": "python",
   "name": "python3"
  },
  "language_info": {
   "codemirror_mode": {
    "name": "ipython",
    "version": 3
   },
   "file_extension": ".py",
   "mimetype": "text/x-python",
   "name": "python",
   "nbconvert_exporter": "python",
   "pygments_lexer": "ipython3",
   "version": "3.9.7"
  }
 },
 "nbformat": 4,
 "nbformat_minor": 5
}
