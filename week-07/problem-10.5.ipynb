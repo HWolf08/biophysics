{
 "cells": [
  {
   "cell_type": "markdown",
   "id": "c59005a3",
   "metadata": {},
   "source": [
    "# 10.5 AVERAGE OVER MANY DRAWS\n",
    "\n",
    "Use this notebook to store your work for this problem."
   ]
  },
  {
   "cell_type": "code",
   "execution_count": 15,
   "id": "a53b67ec",
   "metadata": {},
   "outputs": [],
   "source": [
    "import numpy as np\n",
    "import matplotlib.pyplot as plt\n",
    "import scipy.special as ss\n",
    "from numpy import random\n",
    "from scipy.stats import norm\n",
    "from scipy.special import beta\n",
    "from numpy.random import default_rng\n",
    "\n",
    "rand = default_rng().random"
   ]
  },
  {
   "cell_type": "code",
   "execution_count": 16,
   "id": "a791a23e-ae33-4a18-8a21-1859e9a46b67",
   "metadata": {},
   "outputs": [
    {
     "data": {
      "image/png": "[encoded data removed]",
      "text/plain": [
       "<Figure size 432x288 with 1 Axes>"
      ]
     },
     "metadata": {
      "needs_background": "light"
     },
     "output_type": "display_data"
    }
   ],
   "source": [
    "l0 = 0 \n",
    "beta_birth = 1 \n",
    "k_death = 0.4\n",
    "\n",
    "N = 150\n",
    "\n",
    "l = l0\n",
    "T = 0\n",
    "l_r = np.zeros(N)\n",
    "t_r = np.zeros(N)\n",
    "for n in range(N):\n",
    "    rate = beta_birth+ k_death*l\n",
    "    t = - 1/rate * np.log(rand())\n",
    "    xi = beta_birth/rate\n",
    "    event = rand() < xi\n",
    "    if event: \n",
    "        l = l+1\n",
    "    else: \n",
    "        l = l-1\n",
    "    T = T+t\n",
    "    l_r[n] = l\n",
    "    t_r[n] = T\n",
    "    plt.plot(T,l,'.')"
   ]
  },
  {
   "cell_type": "code",
   "execution_count": 18,
   "id": "c945fcff-9acd-48b0-8cb7-fa4f50621d7e",
   "metadata": {},
   "outputs": [],
   "source": [
    "def gillespie(l_init,T):\n",
    "    t_s = np.zeros(T)\n",
    "    l_s = np.zeros(T)\n",
    "    beta_birth = 1\n",
    "    k_death = 0.4\n",
    "    N = T\n",
    "    T0 = 0 \n",
    "    l = l_init\n",
    "    \n",
    "    for n in range(N):\n",
    "        rate = beta_birth + k_death*l\n",
    "        t = - 1/rate * np.log(rand())\n",
    "        xi = beta_birth/rate\n",
    "        event = rand() < xi\n",
    "        if event: \n",
    "            l = l+1\n",
    "        else: \n",
    "            l = l-1\n",
    "        T0 = T0+t\n",
    "        t_s[n] = T0\n",
    "        l_s[n] = l \n",
    "    \n",
    "    return t_s, l_s"
   ]
  },
  {
   "cell_type": "code",
   "execution_count": 21,
   "id": "20fc7042-1dd5-4d9e-a017-9ae2e1e69f8c",
   "metadata": {},
   "outputs": [],
   "source": [
    "num_sim = 150\n",
    "T = 300\n",
    "l0 = 0 \n",
    "l = np.empty((150,300))\n",
    "t = np.empty((150,300))\n",
    "for i in range(num_sim):\n",
    "    res = gillespie(l0,T)\n",
    "    l[i] = res[1]\n",
    "    t[i] = res[0]"
   ]
  },
  {
   "cell_type": "code",
   "execution_count": 29,
   "id": "e20740dd-49f4-493f-81b5-bc72ade02f44",
   "metadata": {},
   "outputs": [],
   "source": [
    "sum_l = np.ones(T)\n",
    "sum_t = np.ones(T)\n",
    "for n in range(T):\n",
    "    sum_l[n] = l[0:,n].sum() \n",
    "        \n",
    "average_l = sum_l/num_sim"
   ]
  },
  {
   "cell_type": "code",
   "execution_count": 33,
   "id": "d0a10779-f6fc-42b9-8611-db947ce66dbb",
   "metadata": {},
   "outputs": [
    {
     "data": {
      "text/plain": [
       "Text(0.5, 1.0, 'Average T vs L')"
      ]
     },
     "execution_count": 33,
     "metadata": {},
     "output_type": "execute_result"
    },
    {
     "data": {
      "image/png": "[encoded data removed]",
      "text/plain": [
       "<Figure size 432x288 with 1 Axes>"
      ]
     },
     "metadata": {
      "needs_background": "light"
     },
     "output_type": "display_data"
    }
   ],
   "source": [
    "plt.plot(sum_t,average_l)\n",
    "plt.title(\"Average T vs L\")"
   ]
  },
  {
   "cell_type": "markdown",
   "id": "197fe167",
   "metadata": {},
   "source": [
    "##### ***REPLACE WITH YOUR COMMENTS.***"
   ]
  }
 ],
 "metadata": {
  "kernelspec": {
   "display_name": "Python 3 (ipykernel)",
   "language": "python",
   "name": "python3"
  },
  "language_info": {
   "codemirror_mode": {
    "name": "ipython",
    "version": 3
   },
   "file_extension": ".py",
   "mimetype": "text/x-python",
   "name": "python",
   "nbconvert_exporter": "python",
   "pygments_lexer": "ipython3",
   "version": "3.9.7"
  }
 },
 "nbformat": 4,
 "nbformat_minor": 5
}
