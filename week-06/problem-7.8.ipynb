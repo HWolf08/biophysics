{
 "cells": [
  {
   "cell_type": "markdown",
   "id": "c096a614",
   "metadata": {},
   "source": [
    "# PROBLEM 7.8\n",
    "\n",
    "In this problem, you will use maximum likelihood to estimate the mean of samples drawn from a known distribution.  In most real world analyses, you will not know what distribution the data came from.  Try not to bias your analysis when analyzing your simulated data.  Just see what the data tell you, based on the method of maximum likelihood."
   ]
  },
  {
   "cell_type": "code",
   "execution_count": 2,
   "id": "74437c12",
   "metadata": {},
   "outputs": [],
   "source": [
    "import numpy as np\n",
    "import matplotlib.pyplot as plt\n",
    "\n",
    "from numpy.random import default_rng\n",
    "rng = default_rng()"
   ]
  },
  {
   "cell_type": "markdown",
   "id": "5ba161af",
   "metadata": {},
   "source": [
    "## (a) Normal Distribution\n",
    "\n",
    "Make 600 draws from a \"standard normal distribution\" — a normal distribution of mean 0 and standard deviation 1.  Plot the running average $x_n$ of this data as a function of $n$.  The running average is the average of the first $N$ data points.  For example,\n",
    "$$x_{10} = \\dfrac{1}{10} \\sum_{i=1}^{10} x_i\n",
    "\\qquad \\text{and} \\qquad\n",
    "x_{n} = \\dfrac{1}{n} \\sum_{i=1}^{n} x_i$$"
   ]
  },
  {
   "cell_type": "code",
   "execution_count": 3,
   "id": "cde34d79",
   "metadata": {},
   "outputs": [
    {
     "name": "stdout",
     "output_type": "stream",
     "text": [
      "Help on built-in function standard_normal:\n",
      "\n",
      "standard_normal(...) method of numpy.random._generator.Generator instance\n",
      "    standard_normal(size=None, dtype=np.float64, out=None)\n",
      "    \n",
      "    Draw samples from a standard Normal distribution (mean=0, stdev=1).\n",
      "    \n",
      "    Parameters\n",
      "    ----------\n",
      "    size : int or tuple of ints, optional\n",
      "        Output shape.  If the given shape is, e.g., ``(m, n, k)``, then\n",
      "        ``m * n * k`` samples are drawn.  Default is None, in which case a\n",
      "        single value is returned.\n",
      "    dtype : dtype, optional\n",
      "        Desired dtype of the result, only `float64` and `float32` are supported.\n",
      "        Byteorder must be native. The default value is np.float64.\n",
      "    out : ndarray, optional\n",
      "        Alternative output array in which to place the result. If size is not None,\n",
      "        it must have the same shape as the provided size and must match the type of\n",
      "        the output values.\n",
      "    \n",
      "    Returns\n",
      "    -------\n",
      "    out : float or ndarray\n",
      "        A floating-point array of shape ``size`` of drawn samples, or a\n",
      "        single sample if ``size`` was not specified.\n",
      "    \n",
      "    See Also\n",
      "    --------\n",
      "    normal :\n",
      "        Equivalent function with additional ``loc`` and ``scale`` arguments\n",
      "        for setting the mean and standard deviation.\n",
      "    \n",
      "    Notes\n",
      "    -----\n",
      "    For random samples from :math:`N(\\mu, \\sigma^2)`, use one of::\n",
      "    \n",
      "        mu + sigma * gen.standard_normal(size=...)\n",
      "        gen.normal(mu, sigma, size=...)\n",
      "    \n",
      "    Examples\n",
      "    --------\n",
      "    >>> rng = np.random.default_rng()\n",
      "    >>> rng.standard_normal()\n",
      "    2.1923875335537315 #random\n",
      "    \n",
      "    >>> s = rng.standard_normal(8000)\n",
      "    >>> s\n",
      "    array([ 0.6888893 ,  0.78096262, -0.89086505, ...,  0.49876311,  # random\n",
      "           -0.38672696, -0.4685006 ])                                # random\n",
      "    >>> s.shape\n",
      "    (8000,)\n",
      "    >>> s = rng.standard_normal(size=(3, 4, 2))\n",
      "    >>> s.shape\n",
      "    (3, 4, 2)\n",
      "    \n",
      "    Two-by-four array of samples from :math:`N(3, 6.25)`:\n",
      "    \n",
      "    >>> 3 + 2.5 * rng.standard_normal(size=(2, 4))\n",
      "    array([[-4.49401501,  4.00950034, -1.81814867,  7.29718677],   # random\n",
      "           [ 0.39924804,  4.68456316,  4.99394529,  4.84057254]])  # random\n",
      "\n"
     ]
    }
   ],
   "source": [
    "help(rng.standard_normal)"
   ]
  },
  {
   "cell_type": "code",
   "execution_count": 6,
   "id": "247a96c5",
   "metadata": {},
   "outputs": [
    {
     "data": {
      "text/plain": [
       "[<matplotlib.lines.Line2D at 0x15261f7cf10>]"
      ]
     },
     "execution_count": 6,
     "metadata": {},
     "output_type": "execute_result"
    },
    {
     "data": {
      "image/png": "[encoded data removed]",
      "text/plain": [
       "<Figure size 432x288 with 1 Axes>"
      ]
     },
     "metadata": {
      "needs_background": "light"
     },
     "output_type": "display_data"
    }
   ],
   "source": [
    "rand = rng.standard_normal(600)\n",
    "up_lim = 600\n",
    "\n",
    "N = np.arange(0,up_lim,1)\n",
    "x_n = np.zeros(up_lim)\n",
    "y = 0\n",
    "for i in N:\n",
    "    y = y+1\n",
    "    x_n[i] = rand[0:i].sum()*(1/y)\n",
    "plt.figure()\n",
    "plt.plot(N,x_n)"
   ]
  },
  {
   "cell_type": "markdown",
   "id": "85617bef",
   "metadata": {},
   "source": [
    "## (b) Maximum Likelihood\n",
    "\n",
    "Compute the posterior distribution $\\mathcal{P}(\\mu | \\{x_1, x_2, \\ldots, x_N\\})$ for $N \\in \\{1, 10, 100, 600\\}$.  Use a model in which the data is drawn from a normal distribution with standard deviation $\\sigma = 1$, but unknown mean $\\mu = x_t$.\n",
    "\n",
    "You should create four plots.  You can put them in separate subplots, or plot them on the same set of axes.  Comment on the trends you observe as you increase $N$."
   ]
  },
  {
   "cell_type": "code",
   "execution_count": null,
   "id": "0c276427",
   "metadata": {},
   "outputs": [],
   "source": []
  },
  {
   "cell_type": "markdown",
   "id": "cb58b09f",
   "metadata": {},
   "source": [
    "***Replace with your comments.***"
   ]
  },
  {
   "cell_type": "markdown",
   "id": "d6a49683",
   "metadata": {},
   "source": [
    "## (c) Cauchy Distribution\n",
    "\n",
    "Repeat part (a), except draw from a \"standard Cauchy distribution\" of mean 0 and standard deviation 1."
   ]
  },
  {
   "cell_type": "code",
   "execution_count": null,
   "id": "0f5e3dc8",
   "metadata": {},
   "outputs": [],
   "source": [
    "help(rng.standard_cauchy)"
   ]
  },
  {
   "cell_type": "code",
   "execution_count": 10,
   "id": "78ff10f8",
   "metadata": {},
   "outputs": [
    {
     "data": {
      "text/plain": [
       "[<matplotlib.lines.Line2D at 0x152620f2280>]"
      ]
     },
     "execution_count": 10,
     "metadata": {},
     "output_type": "execute_result"
    },
    {
     "data": {
      "image/png": "[encoded data removed]",
      "text/plain": [
       "<Figure size 432x288 with 1 Axes>"
      ]
     },
     "metadata": {
      "needs_background": "light"
     },
     "output_type": "display_data"
    }
   ],
   "source": [
    "rand_num = rng.standard_normal(600)\n",
    "upper_lim = 600\n",
    "u_x = np.zeros(upper_lim)\n",
    "n = 1\n",
    "A = 1\n",
    "x = np.linspace(-8,8,600)\n",
    "\n",
    "p_cauchy = A/(1+((x-u_x)/n)**2)\n",
    "plt.plot(x,p_cauchy)"
   ]
  },
  {
   "cell_type": "markdown",
   "id": "58857af6",
   "metadata": {},
   "source": [
    "## (d) Maximum Likelihood\n",
    "\n",
    "Adapt the method you used in part (b) to estimate the mean of the distribution that gave rise to this data set.  Assume a Cauchy distribution of width 1 but unknown average $\\mu = x_t$.  Compute the posterior distribution $\\mathcal{P}(\\mu | \\{x_1, x_2, \\ldots, x_N\\})$ for $N \\in \\{1, 10, 100, 600\\}$."
   ]
  },
  {
   "cell_type": "code",
   "execution_count": null,
   "id": "2ff6e2d6",
   "metadata": {},
   "outputs": [],
   "source": []
  },
  {
   "cell_type": "markdown",
   "id": "cfb1d928",
   "metadata": {},
   "source": [
    "## (e) Central Limit Theorem\n",
    "\n",
    "The central limit theorem asserts that the sample mean (running average) will approach the population mean (the true value of $\\mu$) as the sample size increases.  You probably observed this in (a) but not in (b).  Why?"
   ]
  },
  {
   "cell_type": "markdown",
   "id": "a888f304",
   "metadata": {},
   "source": [
    "***Replace with your comments.***"
   ]
  }
 ],
 "metadata": {
  "kernelspec": {
   "display_name": "Python 3 (ipykernel)",
   "language": "python",
   "name": "python3"
  },
  "language_info": {
   "codemirror_mode": {
    "name": "ipython",
    "version": 3
   },
   "file_extension": ".py",
   "mimetype": "text/x-python",
   "name": "python",
   "nbconvert_exporter": "python",
   "pygments_lexer": "ipython3",
   "version": "3.9.7"
  }
 },
 "nbformat": 4,
 "nbformat_minor": 5
}
