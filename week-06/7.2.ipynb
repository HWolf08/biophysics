{
 "cells": [
  {
   "cell_type": "code",
   "execution_count": 6,
   "id": "8ea65dac-0e52-4210-97a6-2ae8f3a5cd20",
   "metadata": {},
   "outputs": [],
   "source": [
    "import numpy as np \n",
    "import matplotlib.pyplot as plt\n",
    "import scipy as sc\n",
    "from scipy.special import factorial\n",
    "import scipy.stats\n",
    "from math import sqrt"
   ]
  },
  {
   "cell_type": "code",
   "execution_count": 7,
   "id": "afa45187-a02c-4b62-8e74-e5358a5ddf1f",
   "metadata": {},
   "outputs": [],
   "source": [
    "s = .1/(sqrt(2))\n",
    "y = (1/2)*.5\n",
    "u = np.arange(0,20,1)\n",
    "s2 = .01389*.5\n",
    "chi = .1\n",
    "\n",
    "A_ux = np.exp((-(u)**2)/(2*s**2))\n",
    "B_ux = np.exp((-(.5-u)**2)/(2*chi**2))\n",
    "C12_ux = (1/(s2*sqrt(3.14)))*np.exp(-(u-y)/2*s2**2)"
   ]
  },
  {
   "cell_type": "code",
   "execution_count": 26,
   "id": "90d49631-e4e9-41c5-9f5d-c6252a542255",
   "metadata": {},
   "outputs": [
    {
     "data": {
      "text/plain": [
       "<matplotlib.legend.Legend at 0x1f28c926f70>"
      ]
     },
     "execution_count": 26,
     "metadata": {},
     "output_type": "execute_result"
    },
    {
     "data": {
      "image/png": "[encoded data removed]",
      "text/plain": [
       "<Figure size 432x288 with 1 Axes>"
      ]
     },
     "metadata": {
      "needs_background": "light"
     },
     "output_type": "display_data"
    }
   ],
   "source": [
    "plt.plot(A_ux, c= \"black\", marker= 'o', label='A_ux')\n",
    "plt.plot(B_ux*100000, c= \"orange\", label='B_ux')\n",
    "plt.plot(C12_ux*.005, c= \"red\", marker= 'x', label='C12_ux')\n",
    "plt.title(\"Gaussian Function\")\n",
    "plt.legend(\"upper right\")"
   ]
  },
  {
   "cell_type": "code",
   "execution_count": null,
   "id": "63b82316-2932-44f4-a07f-5d2338b41a0e",
   "metadata": {},
   "outputs": [],
   "source": []
  }
 ],
 "metadata": {
  "kernelspec": {
   "display_name": "Python 3 (ipykernel)",
   "language": "python",
   "name": "python3"
  },
  "language_info": {
   "codemirror_mode": {
    "name": "ipython",
    "version": 3
   },
   "file_extension": ".py",
   "mimetype": "text/x-python",
   "name": "python",
   "nbconvert_exporter": "python",
   "pygments_lexer": "ipython3",
   "version": "3.9.7"
  }
 },
 "nbformat": 4,
 "nbformat_minor": 5
}
