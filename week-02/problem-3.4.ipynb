{
 "cells": [
  {
   "cell_type": "markdown",
   "id": "5412ca32",
   "metadata": {},
   "source": [
    "# Problem 3.4\n",
    "\n",
    "This problem explores the \"Gambler's Fallacy\" --- the idea that after a string of losses, you are \"due\" for a win.\n",
    "\n",
    "We will represent __heads__ by $+1$ and __tails__ by $-1$.  The variable $X$ is the sum of ten such flips of a coin: the number of heads minus the number of tails."
   ]
  },
  {
   "cell_type": "code",
   "execution_count": 1,
   "id": "8248ee95",
   "metadata": {},
   "outputs": [],
   "source": [
    "# Standard setup\n",
    "import numpy as np\n",
    "import matplotlib.pyplot as plt\n",
    "\n",
    "# Get a random number generator.\n",
    "from numpy.random import default_rng\n",
    "rng = default_rng()\n",
    "rand = rng.random"
   ]
  },
  {
   "cell_type": "markdown",
   "id": "9efb4a03",
   "metadata": {},
   "source": [
    "Verify that the following code generates a sequence of 10 flips, as described in the problem.  Briefly explain how it works.\n",
    "\n",
    "-----"
   ]
  },
  {
   "cell_type": "code",
   "execution_count": 2,
   "id": "0bfd145a",
   "metadata": {},
   "outputs": [
    {
     "name": "stdout",
     "output_type": "stream",
     "text": [
      "Coin flips:  [-1 -1  1 -1 -1  1 -1  1  1  1]\n",
      "Sum: X= 0\n"
     ]
    }
   ],
   "source": [
    "flips = 2*(rand(10) < 0.5) - 1\n",
    "X = flips.sum()\n",
    "\n",
    "print(\"Coin flips: \", flips)\n",
    "print(\"Sum: X=\", X)"
   ]
  },
  {
   "cell_type": "markdown",
   "id": "a06734d6",
   "metadata": {},
   "source": [
    "The code is generating a sequence of 10 flips based off the "
   ]
  },
  {
   "cell_type": "markdown",
   "id": "034186de",
   "metadata": {},
   "source": [
    "------\n",
    "\n",
    "## (a)\n",
    "\n",
    "Fill in the necessary Python code below."
   ]
  },
  {
   "cell_type": "code",
   "execution_count": 42,
   "id": "62ca501f",
   "metadata": {},
   "outputs": [
    {
     "name": "stdout",
     "output_type": "stream",
     "text": [
      "There were 80000 trials that started with 5 heads.\n",
      "The average of X for these trials was <X>= 0.0053.\n"
     ]
    }
   ],
   "source": [
    "# Define the problem.\n",
    "Ntrials = 80000\n",
    "Nflips = 10\n",
    "Nstart = 5\n",
    "\n",
    "# Create an array to store the data we want.\n",
    "data = np.zeros(Ntrials)\n",
    "count = 0\n",
    "\n",
    "# Generate Ntrials sequences of Nflips coin flips, and sum.\n",
    "for n in range(Ntrials):\n",
    "    flips = 2*(rand(Nflips) < 0.5) - 1\n",
    "    X = flips.sum()\n",
    "    \n",
    "    # Replace \"if True:\" with a conditional statement that will do the following.\n",
    "    #    IF the first Nstart flips are heads, store X in \"data\" and increment \"count\".\n",
    "    #    OTHERWISE, do nothing and continue to the next trial.\n",
    "    if True:\n",
    "        data[count] = X\n",
    "        count += 1\n",
    "\n",
    "# Now use the data set to answer the question.\n",
    "if count == 0:\n",
    "    print(\"No trials started with {} heads.\".format(Nstart))\n",
    "else:\n",
    "    avgX = data[:count].sum() / count\n",
    "    print (\"There were {} trials that started with {} heads.\".format(count,Nstart))\n",
    "    print(\"The average of X for these trials was <X>= {:.4f}.\".format(avgX))\n"
   ]
  },
  {
   "cell_type": "markdown",
   "id": "a568067f",
   "metadata": {},
   "source": [
    "Run your code several times.  What patterns do you observe?\n",
    "\n",
    "-----"
   ]
  },
  {
   "cell_type": "markdown",
   "id": "c021f245",
   "metadata": {},
   "source": [
    "As I ran the code several times I noticed that it produced x values that switched between positive and negative almost consistently. Most of my answers were within the -0.XX to 0.XX range, although after running it about 15 times I did get a complete 0."
   ]
  },
  {
   "cell_type": "markdown",
   "id": "d0a59d2d",
   "metadata": {},
   "source": [
    "-----\n",
    "\n",
    "## (b)\n",
    "\n",
    "Repeat for `Ntrials = 2000` and `Ntrials = 8000`.\n",
    "\n",
    "> Does the answer seem to be converging to zero, as predicted in the quoted text above? Whatever your answer, give some explanation for why the answer you found should have been expected.\n",
    "\n",
    "-----"
   ]
  },
  {
   "cell_type": "markdown",
   "id": "39fe4cef",
   "metadata": {},
   "source": [
    "When doing it at Ntrials at 2,000 the results were occuring at higher rate at -0.0XX to 0.0XX with still some occasionally being around 0.XX and one being 0.00X. When changing the Ntrials to 8,000 I did not notice a difference from the results I was experiencing with the Ntrials at 2,000, but when changed to Ntrials=80,000 I did start to notice the value converging towards zero. The resuts from this were between -0.000X and 0.000X. I beieve that it is begining to converge to zero due to the structure of the code are the else statement being \"avgX = data[:count].sum() / count\" puts the increasing count in the denominator further decreasing the size of the total X value."
   ]
  },
  {
   "cell_type": "markdown",
   "id": "86ce2eec",
   "metadata": {},
   "source": [
    "-----\n",
    "\n",
    "## (c)\n",
    "\n",
    "Explore regression to the mean, as described in the problem text."
   ]
  },
  {
   "cell_type": "code",
   "execution_count": null,
   "id": "aa170fae",
   "metadata": {},
   "outputs": [],
   "source": [
    "# Define the problem.\n",
    "Ntrials = 50000\n",
    "Nflips1 = 10\n",
    "Nflips2 = 100\n",
    "Nflips3 = 500\n",
    "Nflips4 = 2500\n",
    "Nstart = 5\n",
    "\n",
    "# Create an array to store the data we want.\n",
    "data = np.zeros(Ntrials)\n",
    "count = 0\n",
    "\n",
    "# Generate Ntrials sequences of Nflips coin flips, and sum.\n",
    "for n in range(Ntrials):\n",
    "    flips = 2*(rand(Nflips) < 0.5) - 1\n",
    "    X1 = flips.sum()\n",
    "    \n",
    "    # Replace \"if True:\" with a conditional statement that will do the following.\n",
    "    #    IF the first Nstart flips are heads, store X in \"data\" and increment \"count\".\n",
    "    #    OTHERWISE, do nothing and continue to the next trial.\n",
    "    if True:\n",
    "        data[count] = X\n",
    "        count += 1\n",
    "\n",
    "# Now use the data set to answer the question.\n",
    "if count == 0:\n",
    "    print(\"No trials started with {} heads.\".format(Nstart))\n",
    "else:\n",
    "    avgX = data[:count].sum() / count\n",
    "    print (\"There were {} trials that started with {} heads.\".format(count,Nstart))\n",
    "    print(\"The average of X for these trials was <X>= {:.4f}.\".format(avgX))\n"
   ]
  },
  {
   "cell_type": "markdown",
   "id": "2d3b3ac6",
   "metadata": {},
   "source": [
    "Comment on your observations.\n",
    "\n",
    "-----"
   ]
  },
  {
   "cell_type": "markdown",
   "id": "4a59cb3c",
   "metadata": {},
   "source": []
  },
  {
   "cell_type": "markdown",
   "id": "ae008467",
   "metadata": {},
   "source": [
    "-----\n",
    "\n",
    "## (d)\n",
    "\n",
    "Evaluate the ___spread___ of $X$ for large numbers of trials, as described in the text."
   ]
  },
  {
   "cell_type": "code",
   "execution_count": null,
   "id": "bfbc55ba",
   "metadata": {},
   "outputs": [],
   "source": []
  },
  {
   "cell_type": "markdown",
   "id": "365cdafe",
   "metadata": {},
   "source": [
    "Comment on your observations.\n",
    "\n",
    "-----"
   ]
  },
  {
   "cell_type": "markdown",
   "id": "735adef2",
   "metadata": {},
   "source": []
  },
  {
   "cell_type": "markdown",
   "id": "a87f68ee",
   "metadata": {},
   "source": [
    "_____\n",
    "\n",
    "## (e)\n",
    "\n",
    "Discuss which proposition better describes your findings.\n",
    "\n",
    "> If the first N flips are heads, the next series flips will be more than half tails, in order to pull X closer to zero, because X ‘wants’ to be zero on average.\n",
    "\n",
    "... or ...\n",
    "\n",
    "> The effect of unusual past behavior doesn’t disappear; it just gets diluted as time goes on.\n",
    "\n",
    "-----"
   ]
  },
  {
   "cell_type": "markdown",
   "id": "b6261c64",
   "metadata": {},
   "source": []
  }
 ],
 "metadata": {
  "kernelspec": {
   "display_name": "Python 3 (ipykernel)",
   "language": "python",
   "name": "python3"
  },
  "language_info": {
   "codemirror_mode": {
    "name": "ipython",
    "version": 3
   },
   "file_extension": ".py",
   "mimetype": "text/x-python",
   "name": "python",
   "nbconvert_exporter": "python",
   "pygments_lexer": "ipython3",
   "version": "3.9.7"
  }
 },
 "nbformat": 4,
 "nbformat_minor": 5
}
