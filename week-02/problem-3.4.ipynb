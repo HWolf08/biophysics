{
 "cells": [
  {
   "cell_type": "markdown",
   "id": "5412ca32",
   "metadata": {},
   "source": [
    "# Problem 3.4\n",
    "\n",
    "This problem explores the \"Gambler's Fallacy\" --- the idea that after a string of losses, you are \"due\" for a win.\n",
    "\n",
    "We will represent __heads__ by $+1$ and __tails__ by $-1$.  The variable $X$ is the sum of ten such flips of a coin: the number of heads minus the number of tails."
   ]
  },
  {
   "cell_type": "code",
   "execution_count": 3,
   "id": "8248ee95",
   "metadata": {},
   "outputs": [],
   "source": [
    "# Standard setup\n",
    "import numpy as np\n",
    "import matplotlib.pyplot as plt\n",
    "\n",
    "# Get a random number generator.\n",
    "from numpy.random import default_rng\n",
    "rng = default_rng()\n",
    "rand = rng.random"
   ]
  },
  {
   "cell_type": "markdown",
   "id": "9efb4a03",
   "metadata": {},
   "source": [
    "Verify that the following code generates a sequence of 10 flips, as described in the problem.  Briefly explain how it works.\n",
    "\n",
    "-----"
   ]
  },
  {
   "cell_type": "code",
   "execution_count": 4,
   "id": "0bfd145a",
   "metadata": {},
   "outputs": [
    {
     "name": "stdout",
     "output_type": "stream",
     "text": [
      "Coin flips:  [ 1  1 -1  1 -1  1 -1  1  1 -1]\n",
      "Sum: X= 2\n",
      "[ 1  1 -1  1 -1]\n",
      "1\n"
     ]
    }
   ],
   "source": [
    "flips = 2*(rand(10) < 0.5) - 1\n",
    "X = flips.sum()\n",
    "\n",
    "print(\"Coin flips: \", flips)\n",
    "print(\"Sum: X=\", X)\n",
    "\n",
    "print(flips[:5])\n",
    "print(sum(flips[:5]))"
   ]
  },
  {
   "cell_type": "markdown",
   "id": "a06734d6",
   "metadata": {},
   "source": [
    "The code is generating a sequence of 10 flips based off the the rand(10) code that then uses the >5 to alter it to boolean for then being between 0-2 with the multiplication by 2 and -1 to put it between -1 and 1 for if it is heads or tails. This is then showing the heads and tails for 10 random flips and describing what the total of that flip is equivaent to. Then, when looking at just the first 5 flips in the later half you can find that chances for if your first five flips are all heads."
   ]
  },
  {
   "cell_type": "markdown",
   "id": "034186de",
   "metadata": {},
   "source": [
    "------\n",
    "\n",
    "## (a)\n",
    "\n",
    "Fill in the necessary Python code below."
   ]
  },
  {
   "cell_type": "code",
   "execution_count": 5,
   "id": "62ca501f",
   "metadata": {},
   "outputs": [
    {
     "name": "stdout",
     "output_type": "stream",
     "text": [
      "There were 2465 trials that started with 5 heads.\n",
      "The average of X for these trials was <X>= 5.0613.\n"
     ]
    }
   ],
   "source": [
    "# Define the problem.\n",
    "Ntrials = 80000\n",
    "Nflips = 10\n",
    "Nstart = 5\n",
    "\n",
    "# Create an array to store the data we want.\n",
    "data = np.zeros(Ntrials)\n",
    "count = 0\n",
    "\n",
    "# Generate Ntrials sequences of Nflips coin flips, and sum.\n",
    "for n in range(Ntrials):\n",
    "    flips = 2*(rand(Nflips) < 0.5) - 1\n",
    "    X = flips.sum()\n",
    "    \n",
    "    # Replace \"if True:\" with a conditional statement that will do the following.\n",
    "    #    IF the first Nstart flips are heads, store X in \"data\" and increment \"count\".\n",
    "    #    OTHERWISE, do nothing and continue to the next trial.\n",
    "    if sum(flips[:5]) == 5:\n",
    "        data[count] = X\n",
    "        count += 1\n",
    "\n",
    "# Now use the data set to answer the question.\n",
    "if count == 0:\n",
    "    print(\"No trials started with {} heads.\".format(Nstart))\n",
    "else:\n",
    "    avgX = data[:count].sum() / count\n",
    "    print (\"There were {} trials that started with {} heads.\".format(count,Nstart))\n",
    "    print(\"The average of X for these trials was <X>= {:.4f}.\".format(avgX))\n"
   ]
  },
  {
   "cell_type": "markdown",
   "id": "a568067f",
   "metadata": {},
   "source": [
    "Run your code several times.  What patterns do you observe?\n",
    "\n",
    "-----"
   ]
  },
  {
   "cell_type": "markdown",
   "id": "c021f245",
   "metadata": {},
   "source": [
    "As I ran the code several times I noticed that it produced x values were around 4-5 and the number of trials were around 2-7. As we discussed in class, this is representative of it being 1/32nd of the over number of trials which is to be expected."
   ]
  },
  {
   "cell_type": "markdown",
   "id": "d0a59d2d",
   "metadata": {},
   "source": [
    "-----\n",
    "\n",
    "## (b)\n",
    "\n",
    "Repeat for `Ntrials = 2000` and `Ntrials = 8000`.\n",
    "\n",
    "> Does the answer seem to be converging to zero, as predicted in the quoted text above? Whatever your answer, give some explanation for why the answer you found should have been expected.\n",
    "\n",
    "-----"
   ]
  },
  {
   "cell_type": "markdown",
   "id": "39fe4cef",
   "metadata": {},
   "source": [
    "When changing the Ntrials to 2000 the amount of trials remained around 1/32nd of the number of trials, now producing around 60-70 each time I ran it. When doing 8,000 the X average value did kind of reduce and was lower 4's. This said, the system does not seem to be converging to zero and instead increasing the number of trials, but maintaining the amount of flips, just changes the standard deviation. As we increase the number of trials, the standard deviation reduces which can be related to the law of large numberes."
   ]
  },
  {
   "cell_type": "markdown",
   "id": "86ce2eec",
   "metadata": {},
   "source": [
    "-----\n",
    "\n",
    "## (c)\n",
    "\n",
    "Explore regression to the mean, as described in the problem text."
   ]
  },
  {
   "cell_type": "code",
   "execution_count": 23,
   "id": "aa170fae",
   "metadata": {},
   "outputs": [
    {
     "name": "stdout",
     "output_type": "stream",
     "text": [
      "n= 10\n",
      "There were 1557 trials that started with 5 heads.\n",
      "The average of X for these trials was <X>= 5.0045.\n",
      "n= 100\n",
      "There were 1616 trials that started with 5 heads.\n",
      "The average of X for these trials was <X>= 4.9567.\n",
      "n= 500\n",
      "There were 1646 trials that started with 5 heads.\n",
      "The average of X for these trials was <X>= 4.7849.\n",
      "n= 2500\n",
      "There were 1583 trials that started with 5 heads.\n",
      "The average of X for these trials was <X>= 5.2811.\n"
     ]
    }
   ],
   "source": [
    "Ntrials = 50000\n",
    "N_values = [10, 100, 500, 2500]\n",
    "Nstart = 5\n",
    "\n",
    "for n in N_values:\n",
    "    Nflips = n\n",
    "    print('n=', n)\n",
    "    data = np.zeros(Ntrials)\n",
    "    count = 0\n",
    "   \n",
    "    for n in range(Ntrials):\n",
    "        flips = 2*(rand(Nflips) < 0.5) - 1\n",
    "        X = flips.sum()\n",
    "    \n",
    "        if sum(flips[:5]) == 5:\n",
    "            data[count] = X\n",
    "            count += 1\n",
    "\n",
    "    if count == 0:\n",
    "        print(\"No trials started with {} heads.\".format(Nstart))\n",
    "    else:\n",
    "        avgX = data[:count].sum() / count\n",
    "        print (\"There were {} trials that started with {} heads.\".format(count,Nstart))\n",
    "        print(\"The average of X for these trials was <X>= {:.4f}.\".format(avgX))\n"
   ]
  },
  {
   "cell_type": "markdown",
   "id": "2d3b3ac6",
   "metadata": {},
   "source": [
    "Comment on your observations.\n",
    "\n",
    "-----"
   ]
  },
  {
   "cell_type": "markdown",
   "id": "4a59cb3c",
   "metadata": {},
   "source": [
    "With the number of trials remaining the same within the code (50,000), the number of trials that experienced heads remains roughly the same throughout each of the number of flips. This relation is shown to be the expected 1/32nd of the 50,000 value at about 1,562. This said, as you increase the number of flips that happen within the same number of trials, the deviation in x average value increases. This is because as you increase the possibilities of these flips, with them being independent, increases the opportunities you have to get differeing 1 or -1 values to get further from the center of 0."
   ]
  },
  {
   "cell_type": "markdown",
   "id": "ae008467",
   "metadata": {},
   "source": [
    "-----\n",
    "\n",
    "## (d)\n",
    "\n",
    "Evaluate the ___spread___ of $X$ for large numbers of trials, as described in the text."
   ]
  },
  {
   "cell_type": "code",
   "execution_count": 22,
   "id": "bfbc55ba",
   "metadata": {},
   "outputs": [
    {
     "name": "stdout",
     "output_type": "stream",
     "text": [
      "X=0.4907+/-0.291446\n"
     ]
    },
    {
     "data": {
      "text/plain": [
       "0.29144578081672945"
      ]
     },
     "execution_count": 22,
     "metadata": {},
     "output_type": "execute_result"
    }
   ],
   "source": [
    "X = rand(1000)\n",
    "print(\"X={:.4f}+/-{:4f}\".format(X.mean(), X.std()))\n",
    "np.std(X)"
   ]
  },
  {
   "cell_type": "markdown",
   "id": "365cdafe",
   "metadata": {},
   "source": [
    "Comment on your observations.\n",
    "\n",
    "-----"
   ]
  },
  {
   "cell_type": "markdown",
   "id": "735adef2",
   "metadata": {},
   "source": [
    "As mentioned previously, as you increase the number of trials that are experienced the standard deviation decreases. In opposition to this, when you change the number of flips to be increasing with the trials remaining the same you will see the standard deviation increasing."
   ]
  },
  {
   "cell_type": "markdown",
   "id": "a87f68ee",
   "metadata": {},
   "source": [
    "_____\n",
    "\n",
    "## (e)\n",
    "\n",
    "Discuss which proposition better describes your findings.\n",
    "\n",
    "> If the first N flips are heads, the next series flips will be more than half tails, in order to pull X closer to zero, because X ‘wants’ to be zero on average.\n",
    "\n",
    "... or ...\n",
    "\n",
    "> The effect of unusual past behavior doesn’t disappear; it just gets diluted as time goes on.\n",
    "\n",
    "-----"
   ]
  },
  {
   "cell_type": "markdown",
   "id": "b6261c64",
   "metadata": {},
   "source": [
    "The second proposition is better descriptive of the findings. This is due to our findings of no convergence to zero, but instead the implimentation of the law of large numbers with narrowing of the standard deviation as the trials of which the action is done is increased. Thus, meaning that as the act is repeated at a larger level, the behavior of deviation is \"diluted\" or reduced as the that goes on. This change in deviation from the usual causes the system to seem as though its \"unusual past behavior\" is occuring less."
   ]
  },
  {
   "cell_type": "code",
   "execution_count": null,
   "id": "b9a768de-31e9-44c6-9332-ec0270ae80b6",
   "metadata": {},
   "outputs": [],
   "source": []
  }
 ],
 "metadata": {
  "kernelspec": {
   "display_name": "Python 3 (ipykernel)",
   "language": "python",
   "name": "python3"
  },
  "language_info": {
   "codemirror_mode": {
    "name": "ipython",
    "version": 3
   },
   "file_extension": ".py",
   "mimetype": "text/x-python",
   "name": "python",
   "nbconvert_exporter": "python",
   "pygments_lexer": "ipython3",
   "version": "3.9.7"
  }
 },
 "nbformat": 4,
 "nbformat_minor": 5
}
