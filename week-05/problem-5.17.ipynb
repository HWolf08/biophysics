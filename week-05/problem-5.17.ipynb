{
 "cells": [
  {
   "cell_type": "markdown",
   "id": "bde30066",
   "metadata": {},
   "source": [
    "# Problem 5.17\n",
    "\n",
    "___This problem is only required for 507 and Honors students.  It will be counted as extra credit for all others.___\n",
    "\n",
    "Use this notebook to present your work on the problem.  If you write scripts, store them in this folder and run them within this notebook to produce the requested histograms and graphs."
   ]
  },
  {
   "cell_type": "code",
   "execution_count": 29,
   "id": "562b94c2-21b1-4a2b-b5c9-5ecdf7d2afa0",
   "metadata": {},
   "outputs": [],
   "source": [
    "import numpy as np \n",
    "import matplotlib.pyplot as plt\n",
    "import pandas as pd\n",
    "\n",
    "import scipy as sc\n",
    "from scipy.stats import uniform,norm\n",
    "from scipy.integrate import quad"
   ]
  },
  {
   "cell_type": "markdown",
   "id": "b7f408b8",
   "metadata": {},
   "source": [
    "## (a) Cauchy distribution"
   ]
  },
  {
   "cell_type": "code",
   "execution_count": 30,
   "id": "13f99fc3",
   "metadata": {},
   "outputs": [
    {
     "name": "stdout",
     "output_type": "stream",
     "text": [
      "2\n"
     ]
    },
    {
     "data": {
      "image/png": "[encoded data removed]",
      "text/plain": [
       "<Figure size 432x288 with 1 Axes>"
      ]
     },
     "metadata": {
      "needs_background": "light"
     },
     "output_type": "display_data"
    }
   ],
   "source": [
    "u_x = 0 \n",
    "n = 1\n",
    "A = 1\n",
    "x = np.linspace(-8,8,65)\n",
    "p_cauchy = A/(1+((x-u_x)/n)**2)\n",
    "\n",
    "plt.plot(x,p_cauchy)\n",
    "\n",
    "FWHM = 2*n\n",
    "print(FWHM)"
   ]
  },
  {
   "cell_type": "markdown",
   "id": "fb26dab0",
   "metadata": {},
   "source": [
    "## (b) Gaussian distribution"
   ]
  },
  {
   "cell_type": "code",
   "execution_count": 37,
   "id": "02d5f5e1",
   "metadata": {},
   "outputs": [
    {
     "name": "stdout",
     "output_type": "stream",
     "text": [
      "Standard Deviation for FWHM = 2 is 0.8493218002880191\n"
     ]
    }
   ],
   "source": [
    "import math\n",
    "\n",
    "n = 1\n",
    "FWHM = 2*n\n",
    "\n",
    "sigma = FWHM/(2*math.sqrt(2*math.log(2)))\n",
    "print('Standard Deviation for FWHM = 2 is {}'.format(sigma))"
   ]
  },
  {
   "cell_type": "code",
   "execution_count": 38,
   "id": "b33d9273-2d38-4fe0-a78c-3e7900c13304",
   "metadata": {},
   "outputs": [
    {
     "data": {
      "text/plain": [
       "[<matplotlib.lines.Line2D at 0x1e568edca00>]"
      ]
     },
     "execution_count": 38,
     "metadata": {},
     "output_type": "execute_result"
    },
    {
     "data": {
      "image/png": "[encoded data removed]",
      "text/plain": [
       "<Figure size 432x288 with 1 Axes>"
      ]
     },
     "metadata": {
      "needs_background": "light"
     },
     "output_type": "display_data"
    }
   ],
   "source": [
    "X = np.linspace(-8,8,65)\n",
    "mhu = 0 \n",
    "gaussian = (1/(sigma*np.sqrt(2*3.14)))*np.exp(-(X - mhu)**2 / (2*sigma**2))\n",
    "plt.plot(x,gaussian)"
   ]
  },
  {
   "cell_type": "code",
   "execution_count": 39,
   "id": "134219df-620a-4c11-b06b-c47e6314daf2",
   "metadata": {},
   "outputs": [],
   "source": [
    "# The gaussian distribution is very familiar tot the cauchy distribution from above in the curve and x-axis. This said the y-axis has a half reduction, which was expected."
   ]
  },
  {
   "cell_type": "markdown",
   "id": "2e4d6f7e",
   "metadata": {},
   "source": [
    "## (c) $P(|x| > FWHM/2)$ for Cauchy distribution"
   ]
  },
  {
   "cell_type": "code",
   "execution_count": 58,
   "id": "7d427ee8-f3fb-4c25-98ab-d661099f8100",
   "metadata": {},
   "outputs": [
    {
     "name": "stdout",
     "output_type": "stream",
     "text": [
      "The calculated value of P|x|> for FWHM/2 is 0.024357053737024695\n"
     ]
    }
   ],
   "source": [
    "n = 1\n",
    "FWMH = 2*n\n",
    "\n",
    "p_x = np.array(np.abs(x) > FWHM/2) \n",
    "p_x[0:10]\n",
    "p_x[51:-1]\n",
    "P_x = (p_cauchy[0:10].sum() + p_cauchy[51:-1].sum())/(len(p_cauchy[0:10])+len(p_cauchy[51:-1]))\n",
    "print('The calculated value of P|x|> for FWHM/2 is {}'.format(P_x))"
   ]
  },
  {
   "cell_type": "markdown",
   "id": "da35a525",
   "metadata": {},
   "source": [
    "## (d) $P(|x| > FWHM/2)$ for Gaussian distribution"
   ]
  },
  {
   "cell_type": "code",
   "execution_count": 59,
   "id": "a0251d30",
   "metadata": {},
   "outputs": [],
   "source": [
    "p_x = np.array(np.abs(X) > FWHM/2)\n",
    "p_x[0:10]\n",
    "\n",
    "low_l = X[0]\n",
    "up_l = X[10]\n",
    "\n",
    "low_r = X[51]\n",
    "up_r = X[-1]"
   ]
  },
  {
   "cell_type": "code",
   "execution_count": 60,
   "id": "b2845a77-0bca-407d-aa46-9ef68f8e4091",
   "metadata": {},
   "outputs": [
    {
     "name": "stdout",
     "output_type": "stream",
     "text": [
      "The calculated value of P|x|> for FWHM/2 is 1.1228439761702518e-08\n"
     ]
    }
   ],
   "source": [
    "def integrand(x):\n",
    "    return (1/(sigma*np.sqrt(2*3.14)))*np.exp(-(x - 0)**2 / (2*sigma**2))\n",
    "\n",
    "ans_l,error_l = quad(integrand,low_l,up_l)\n",
    "ans_r,error_r = quad(integrand,low_r,up_r)\n",
    "\n",
    "P_x = ans_l+ans_r\n",
    "print('The calculated value of P|x|> for FWHM/2 is {}'.format(P_x))"
   ]
  },
  {
   "cell_type": "markdown",
   "id": "166eebbd",
   "metadata": {},
   "source": [
    "## (e) $P(|x| > 1.5 \\, FWHM)$ for Cauchy and Gaussian distributions"
   ]
  },
  {
   "cell_type": "code",
   "execution_count": 61,
   "id": "84158421",
   "metadata": {},
   "outputs": [
    {
     "name": "stdout",
     "output_type": "stream",
     "text": [
      "The calculated value of P|x|> for 1.5*FWHM is 0.017551499537962298\n"
     ]
    }
   ],
   "source": [
    "n = 1\n",
    "FWMH = 2*n\n",
    "\n",
    "p_x = np.array(np.abs(x) > FWHM*1.5) \n",
    "p_x[0:5]\n",
    "p_x[61:-1]\n",
    "P_x = (p_cauchy[0:5].sum() + p_cauchy[61:-1].sum())/(len(p_cauchy[0:5])+len(p_cauchy[61:-1]))\n",
    "\n",
    "print('The calculated value of P|x|> for 1.5*FWHM is {}'.format(P_x))"
   ]
  },
  {
   "cell_type": "code",
   "execution_count": 62,
   "id": "dab56df9-3286-40b4-afdd-45f49624991a",
   "metadata": {},
   "outputs": [],
   "source": [
    "p_x = np.array(np.abs(X) > FWHM*1.5)\n",
    "p_x[0:5]\n",
    "\n",
    "low_l = X[0]\n",
    "up_l = X[5]\n",
    "\n",
    "low_r = X[61]\n",
    "up_r = X[-1]"
   ]
  },
  {
   "cell_type": "code",
   "execution_count": 63,
   "id": "4347243c-eb80-47e9-9214-6f819c0a088c",
   "metadata": {},
   "outputs": [
    {
     "name": "stdout",
     "output_type": "stream",
     "text": [
      "The calculated value of P|x|> for 1.5*FWHM is 9.586020242826236e-16\n"
     ]
    }
   ],
   "source": [
    "def integrand(x):\n",
    "    return (1/(sigma*np.sqrt(2*3.14)))*np.exp(-(x - 0)**2 / (2*sigma**2))\n",
    "\n",
    "ans_l,error_l = quad(integrand,low_l,up_l)\n",
    "ans_r,error_r = quad(integrand,low_r,up_r)\n",
    "\n",
    "P_x = ans_l+ans_r\n",
    "print('The calculated value of P|x|> for 1.5*FWHM is {}'.format(P_x))"
   ]
  },
  {
   "cell_type": "markdown",
   "id": "1a1f7a01",
   "metadata": {},
   "source": [
    "## (f) Interquartile range"
   ]
  },
  {
   "cell_type": "code",
   "execution_count": 65,
   "id": "1608327c",
   "metadata": {},
   "outputs": [
    {
     "name": "stdout",
     "output_type": "stream",
     "text": [
      "The IQR of the function is 0.1597484938686531\n"
     ]
    }
   ],
   "source": [
    "u_x = 0 \n",
    "eta = 1\n",
    "A = 1\n",
    "x = np.linspace(-8,8,64)\n",
    "\n",
    "p_cauchy = A/(1+((x-u_x)/eta)**2)\n",
    "Q3,Q1 = np.percentile(p_cauchy,[75,25])\n",
    "IQR = Q3-Q1\n",
    "\n",
    "print('The IQR of the function is {}'.format(IQR))"
   ]
  },
  {
   "cell_type": "code",
   "execution_count": 66,
   "id": "cf24af57-5023-4728-a005-a9a068696e08",
   "metadata": {},
   "outputs": [
    {
     "name": "stdout",
     "output_type": "stream",
     "text": [
      "Standard Deviation for IQR is 0.06783893920291202\n"
     ]
    }
   ],
   "source": [
    "sigma = IQR/(2*math.sqrt(2*math.log(2)))\n",
    "print('Standard Deviation for IQR is {}'.format(sigma))"
   ]
  },
  {
   "cell_type": "code",
   "execution_count": 68,
   "id": "b3f2bf5f-2f8b-4bed-97ae-2bddb157541d",
   "metadata": {},
   "outputs": [
    {
     "data": {
      "text/plain": [
       "[<matplotlib.lines.Line2D at 0x1e568f52d90>]"
      ]
     },
     "execution_count": 68,
     "metadata": {},
     "output_type": "execute_result"
    },
    {
     "data": {
      "image/png": "[encoded data removed]",
      "text/plain": [
       "<Figure size 432x288 with 1 Axes>"
      ]
     },
     "metadata": {
      "needs_background": "light"
     },
     "output_type": "display_data"
    }
   ],
   "source": [
    "X = np.linspace(-8,8,64)\n",
    "mu = 0 \n",
    "gaussian = (1/(sigma*np.sqrt(2*3.14)))*np.exp(-(X - mu)**2 / (2*sigma**2))\n",
    "\n",
    "plt.plot(x,gaussian)"
   ]
  },
  {
   "cell_type": "code",
   "execution_count": 71,
   "id": "3d6fb66a-f79d-460a-8068-571be4d4cb31",
   "metadata": {},
   "outputs": [
    {
     "data": {
      "text/plain": [
       "0.18301981347285867"
      ]
     },
     "execution_count": 71,
     "metadata": {},
     "output_type": "execute_result"
    }
   ],
   "source": [
    "p_x = np.array(np.abs(x) > IQR/2) \n",
    "p_x[0:50]\n",
    "p_x[51:-1]\n",
    "\n",
    "P_x = (p_cauchy[0:50].sum() + p_cauchy[51:-1].sum())/(len(p_cauchy[0:50])+len(p_cauchy[51:-1]))\n",
    "P_x"
   ]
  },
  {
   "cell_type": "code",
   "execution_count": 73,
   "id": "8aa5e29c-cb61-44fd-b190-2a8ff79aab62",
   "metadata": {},
   "outputs": [],
   "source": [
    "p_x = np.array(np.abs(X) > IQR/2)\n",
    "\n",
    "low_l = X[0]\n",
    "up_l = X[50]\n",
    "\n",
    "low_r = X[51]\n",
    "up_r = X[-1]"
   ]
  },
  {
   "cell_type": "code",
   "execution_count": 74,
   "id": "096f97ff-95fb-48d9-a0c3-67a5ab2b345a",
   "metadata": {},
   "outputs": [
    {
     "name": "stdout",
     "output_type": "stream",
     "text": [
      "The calculated value of P|x|> for IQR is 1.000253575109353\n"
     ]
    }
   ],
   "source": [
    "def integrand(x):\n",
    "    return (1/(sigma*np.sqrt(2*3.14)))*np.exp(-(x - 0)**2 / (2*sigma**2))\n",
    "\n",
    "ans_l,error_l = quad(integrand,low_l,up_l)\n",
    "ans_r,error_r = quad(integrand,low_r,up_r)\n",
    "\n",
    "P_x = ans_l+ans_r\n",
    "print('The calculated value of P|x|> for IQR is {}'.format(P_x))"
   ]
  },
  {
   "cell_type": "code",
   "execution_count": 75,
   "id": "a05920e4-f621-47a3-9c95-4d70d61a2ad3",
   "metadata": {},
   "outputs": [
    {
     "data": {
      "text/plain": [
       "0.18301981347285867"
      ]
     },
     "execution_count": 75,
     "metadata": {},
     "output_type": "execute_result"
    }
   ],
   "source": [
    "p_x = np.array(np.abs(x) > 1.5*IQR) \n",
    "p_x[0:50]\n",
    "p_x[51:-1]\n",
    "\n",
    "P_x = (p_cauchy[0:50].sum() + p_cauchy[51:-1].sum())/(len(p_cauchy[0:50])+len(p_cauchy[51:-1]))\n",
    "P_x"
   ]
  },
  {
   "cell_type": "code",
   "execution_count": 76,
   "id": "689e1eee-2aa3-4a49-8ca1-a806b3ddc069",
   "metadata": {},
   "outputs": [],
   "source": [
    "p_x = np.array(np.abs(X) > 1.5*IQR)\n",
    "\n",
    "low_l = X[0]\n",
    "up_l = X[50]\n",
    "\n",
    "low_r = X[51]\n",
    "up_r = X[-1]"
   ]
  },
  {
   "cell_type": "code",
   "execution_count": 77,
   "id": "bc2fd35c-9710-4e4c-8e4f-dbd9f4465357",
   "metadata": {},
   "outputs": [
    {
     "name": "stdout",
     "output_type": "stream",
     "text": [
      "The calculated value of P|x|> for 1.5IQR is 1.000253575109353\n"
     ]
    }
   ],
   "source": [
    "def integrand(x):\n",
    "    return (1/(sigma*np.sqrt(2*3.14)))*np.exp(-(x - 0)**2 / (2*sigma**2))\n",
    "\n",
    "ans_l,error_l = quad(integrand,low_l,up_l)\n",
    "ans_r,error_r = quad(integrand,low_r,up_r)\n",
    "\n",
    "P_x = ans_l+ans_r\n",
    "print('The calculated value of P|x|> for 1.5IQR is {}'.format(P_x))"
   ]
  },
  {
   "cell_type": "code",
   "execution_count": 78,
   "id": "3d187acd-1c96-4f36-91c7-7ba6333eed54",
   "metadata": {},
   "outputs": [],
   "source": [
    "#I found it insteresting that when using the IQR the value for the 1/2 and 3/2 provided the same outcome. This was not seen when we did the first FWHM calculations."
   ]
  },
  {
   "cell_type": "code",
   "execution_count": null,
   "id": "c5dacb01-a5ea-4603-8c13-bcfe981c1c10",
   "metadata": {},
   "outputs": [],
   "source": []
  }
 ],
 "metadata": {
  "kernelspec": {
   "display_name": "Python 3 (ipykernel)",
   "language": "python",
   "name": "python3"
  },
  "language_info": {
   "codemirror_mode": {
    "name": "ipython",
    "version": 3
   },
   "file_extension": ".py",
   "mimetype": "text/x-python",
   "name": "python",
   "nbconvert_exporter": "python",
   "pygments_lexer": "ipython3",
   "version": "3.9.7"
  }
 },
 "nbformat": 4,
 "nbformat_minor": 5
}
