{
 "cells": [
  {
   "cell_type": "markdown",
   "id": "014e2bd5",
   "metadata": {},
   "source": [
    "# 12.5 MY LITTLE RUNAWAY\n",
    "\n",
    "Use this notebook to store your work for this problem."
   ]
  },
  {
   "cell_type": "markdown",
   "id": "5610b9f6",
   "metadata": {},
   "source": [
    "## Initial Conditions\n",
    "\n",
    "Make at least 3 separate plots:\n",
    "\n",
    "- $x_0 < -1$\n",
    "- $-1 < x_0 < 1$\n",
    "- $x_0 > 1$\n",
    "\n",
    "After you have explored these regimes, comment on the behavior you observed."
   ]
  },
  {
   "cell_type": "code",
   "execution_count": 3,
   "id": "25dd5dae",
   "metadata": {},
   "outputs": [],
   "source": [
    "import numpy as np\n",
    "import matplotlib.pyplot as plt\n",
    "import scipy.special as ss\n",
    "from scipy.special import binom\n",
    "from numpy import random\n",
    "from scipy.stats import norm\n",
    "import math\n",
    "from scipy.stats import stats\n",
    "from scipy.special import beta\n",
    "from scipy.signal import convolve\n",
    "from mpl_toolkits import mplot3d\n",
    "from numpy.random import default_rng\n",
    "rand = default_rng().random\n",
    "from scipy.integrate import odeint"
   ]
  },
  {
   "cell_type": "markdown",
   "id": "203491d3",
   "metadata": {},
   "source": [
    "***I was unable to get the graphic created to replicate the graphs we made in class the other week to display knee jack (pg.351) , but that is what this problem reminded me of and what I was going to make my plots based off of. I beieve that the X0 less then -1 would be similar to the downward stuck knee jack position. Then as the knee jack is adjusted upward from -1 to 1 it would be in an unstable transition period, meaning when exactly at 0 the jack would be at a perfectly horizontal stuck position. Then as the jack continues to the above 1 mark it would be in the upward locked position and continue in this position until it reduces back to the unstable positions of 1 to -1.***"
   ]
  },
  {
   "cell_type": "code",
   "execution_count": null,
   "id": "3e21b180-0280-4b66-92e6-486bfe8004dd",
   "metadata": {},
   "outputs": [],
   "source": []
  }
 ],
 "metadata": {
  "kernelspec": {
   "display_name": "Python 3 (ipykernel)",
   "language": "python",
   "name": "python3"
  },
  "language_info": {
   "codemirror_mode": {
    "name": "ipython",
    "version": 3
   },
   "file_extension": ".py",
   "mimetype": "text/x-python",
   "name": "python",
   "nbconvert_exporter": "python",
   "pygments_lexer": "ipython3",
   "version": "3.9.7"
  }
 },
 "nbformat": 4,
 "nbformat_minor": 5
}
